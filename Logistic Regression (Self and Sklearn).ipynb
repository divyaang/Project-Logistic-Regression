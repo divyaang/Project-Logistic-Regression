{
 "cells": [
  {
   "cell_type": "code",
   "execution_count": 1,
   "metadata": {},
   "outputs": [],
   "source": [
    "import numpy as np\n",
    "import math\n",
    "from sklearn import datasets\n",
    "from sklearn.model_selection import train_test_split\n",
    "from sklearn.metrics import accuracy_score\n",
    "from sklearn.linear_model import LogisticRegression\n",
    "from sklearn.metrics import classification_report, confusion_matrix\n",
    "import warnings\n",
    "warnings.filterwarnings(\"ignore\")"
   ]
  },
  {
   "cell_type": "markdown",
   "metadata": {},
   "source": [
    "## Self Implementation of Logistic Regression"
   ]
  },
  {
   "cell_type": "code",
   "execution_count": 2,
   "metadata": {},
   "outputs": [],
   "source": [
    "def get_m(input_, output, learning_rate, m):\n",
    "    m_slope= np.zeros(input_.shape[1]+1)\n",
    "    \n",
    "    M = len(input_)\n",
    "    for i in range(M):\n",
    "        x = input_[i]\n",
    "        x = np.append(x,1)\n",
    "        y = output[i]\n",
    "        \n",
    "        for j in range(input_.shape[1]):\n",
    "            hx = 1/(1 + math.exp(-(m*x).sum()))\n",
    "            m_slope[j] += (-1/M)*(y-hx)*x[j]\n",
    "    new_m = m - learning_rate*m_slope\n",
    "    \n",
    "    return new_m"
   ]
  },
  {
   "cell_type": "code",
   "execution_count": 3,
   "metadata": {},
   "outputs": [],
   "source": [
    "def logistic_regression(input_, output, learning_rate, num_iterations):\n",
    "    m = np.zeros(input_.shape[1]+1)\n",
    "    for i in range(num_iterations):\n",
    "        m = get_m(input_, output, learning_rate, m)\n",
    "        #print((i+1), \" Cost: \", cost(points, m))\n",
    "    return m"
   ]
  },
  {
   "cell_type": "code",
   "execution_count": 4,
   "metadata": {},
   "outputs": [],
   "source": [
    "def pred(input_, m):\n",
    "    \n",
    "    ans = []\n",
    "    M = len(input_)\n",
    "    for i in range(M):\n",
    "        x = input_[i]\n",
    "        x = np.append(x,1)\n",
    "        \n",
    "        hx = hx = 1/(1 + math.exp(-(m*x).sum()))\n",
    "        \n",
    "        if hx > 0.5:\n",
    "            ans.append(1)\n",
    "        else:\n",
    "            ans.append(0)\n",
    "    return ans"
   ]
  },
  {
   "cell_type": "code",
   "execution_count": 5,
   "metadata": {},
   "outputs": [],
   "source": [
    "cancer_ds = datasets.load_breast_cancer()\n",
    "x_train, x_test, y_train, y_test = train_test_split(cancer_ds.data, cancer_ds.target, test_size = 0.2, random_state = 0)"
   ]
  },
  {
   "cell_type": "code",
   "execution_count": 6,
   "metadata": {},
   "outputs": [],
   "source": [
    "m = logistic_regression(x_train, y_train , 0.0001, 200)\n",
    "y_pred_self = pred(x_test, m)"
   ]
  },
  {
   "cell_type": "markdown",
   "metadata": {},
   "source": [
    "## Using Logistic Regression Implemented in Sklearn"
   ]
  },
  {
   "cell_type": "code",
   "execution_count": 7,
   "metadata": {},
   "outputs": [
    {
     "data": {
      "text/plain": [
       "LogisticRegression(C=1.0, class_weight=None, dual=False, fit_intercept=True,\n",
       "                   intercept_scaling=1, l1_ratio=None, max_iter=100,\n",
       "                   multi_class='warn', n_jobs=None, penalty='l2',\n",
       "                   random_state=None, solver='warn', tol=0.0001, verbose=0,\n",
       "                   warm_start=False)"
      ]
     },
     "execution_count": 7,
     "metadata": {},
     "output_type": "execute_result"
    }
   ],
   "source": [
    "clf = LogisticRegression()\n",
    "clf.fit(x_train, y_train)"
   ]
  },
  {
   "cell_type": "code",
   "execution_count": 8,
   "metadata": {},
   "outputs": [],
   "source": [
    "y_pred = clf.predict(x_test)"
   ]
  },
  {
   "cell_type": "markdown",
   "metadata": {},
   "source": [
    "## Comparison of Self-Implemented and Sklearn Implemented Logistic Regression"
   ]
  },
  {
   "cell_type": "markdown",
   "metadata": {},
   "source": [
    "### Accuracy"
   ]
  },
  {
   "cell_type": "code",
   "execution_count": 9,
   "metadata": {},
   "outputs": [
    {
     "name": "stdout",
     "output_type": "stream",
     "text": [
      "-----------------------------------------------------------------------\n",
      "Accuarcy of Self Implemented Logistic Regression is 0.8771929824561403\n",
      "-----------------------------------------------------------------------\n",
      "Accuarcy of Sklearn Implemented Logistic Regression is 0.956140350877193\n",
      "-----------------------------------------------------------------------\n"
     ]
    }
   ],
   "source": [
    "print('-----------------------------------------------------------------------')\n",
    "print('Accuarcy of Self Implemented Logistic Regression is', accuracy_score(y_test, y_pred_self))\n",
    "print('-----------------------------------------------------------------------')\n",
    "print('Accuarcy of Sklearn Implemented Logistic Regression is', accuracy_score(y_test, y_pred))\n",
    "print('-----------------------------------------------------------------------')"
   ]
  },
  {
   "cell_type": "markdown",
   "metadata": {},
   "source": [
    "### Classification Report"
   ]
  },
  {
   "cell_type": "code",
   "execution_count": 10,
   "metadata": {},
   "outputs": [
    {
     "name": "stdout",
     "output_type": "stream",
     "text": [
      "---------------------------------------------------------------------------\n",
      "Classification Report of Self Implemented Logistic Regression\n",
      "              precision    recall  f1-score   support\n",
      "\n",
      "           0       0.87      0.83      0.85        47\n",
      "           1       0.88      0.91      0.90        67\n",
      "\n",
      "    accuracy                           0.88       114\n",
      "   macro avg       0.88      0.87      0.87       114\n",
      "weighted avg       0.88      0.88      0.88       114\n",
      "\n",
      "---------------------------------------------------------------------------\n",
      "Classification Report of Sklearn Implemented Logistic Regression\n",
      "              precision    recall  f1-score   support\n",
      "\n",
      "           0       0.92      0.98      0.95        47\n",
      "           1       0.98      0.94      0.96        67\n",
      "\n",
      "    accuracy                           0.96       114\n",
      "   macro avg       0.95      0.96      0.96       114\n",
      "weighted avg       0.96      0.96      0.96       114\n",
      "\n",
      "---------------------------------------------------------------------------\n"
     ]
    }
   ],
   "source": [
    "print(\"---------------------------------------------------------------------------\")\n",
    "print(\"Classification Report of Self Implemented Logistic Regression\")\n",
    "print(classification_report(y_test,y_pred_self))\n",
    "print(\"---------------------------------------------------------------------------\")\n",
    "print(\"Classification Report of Sklearn Implemented Logistic Regression\")\n",
    "print(classification_report(y_test,y_pred))\n",
    "print(\"---------------------------------------------------------------------------\")"
   ]
  },
  {
   "cell_type": "markdown",
   "metadata": {},
   "source": [
    "### Confusion Matrix"
   ]
  },
  {
   "cell_type": "code",
   "execution_count": 11,
   "metadata": {},
   "outputs": [
    {
     "name": "stdout",
     "output_type": "stream",
     "text": [
      "---------------------------------------------------------------------------\n",
      "Confusion Matrix of Self Implemented Logistic Regression\n",
      "[[39  8]\n",
      " [ 6 61]]\n",
      "---------------------------------------------------------------------------\n",
      "Confusion Matrix of Sklearn Implemented Logistic Regression\n",
      "[[46  1]\n",
      " [ 4 63]]\n",
      "---------------------------------------------------------------------------\n"
     ]
    }
   ],
   "source": [
    "print(\"---------------------------------------------------------------------------\")\n",
    "print(\"Confusion Matrix of Self Implemented Logistic Regression\")\n",
    "print(confusion_matrix(y_test,y_pred_self))\n",
    "print(\"---------------------------------------------------------------------------\")\n",
    "print(\"Confusion Matrix of Sklearn Implemented Logistic Regression\")\n",
    "print(confusion_matrix(y_test,y_pred))\n",
    "print(\"---------------------------------------------------------------------------\")"
   ]
  },
  {
   "cell_type": "code",
   "execution_count": null,
   "metadata": {},
   "outputs": [],
   "source": []
  }
 ],
 "metadata": {
  "kernelspec": {
   "display_name": "Python 3",
   "language": "python",
   "name": "python3"
  },
  "language_info": {
   "codemirror_mode": {
    "name": "ipython",
    "version": 3
   },
   "file_extension": ".py",
   "mimetype": "text/x-python",
   "name": "python",
   "nbconvert_exporter": "python",
   "pygments_lexer": "ipython3",
   "version": "3.7.3"
  }
 },
 "nbformat": 4,
 "nbformat_minor": 2
}
